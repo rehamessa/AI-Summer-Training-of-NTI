{
  "nbformat": 4,
  "nbformat_minor": 0,
  "metadata": {
    "colab": {
      "name": "RNN.ipynb",
      "provenance": [],
      "collapsed_sections": []
    },
    "kernelspec": {
      "name": "python3",
      "display_name": "Python 3"
    },
    "language_info": {
      "name": "python"
    }
  },
  "cells": [
    {
      "cell_type": "code",
      "metadata": {
        "id": "7PBjH6VYe2kE"
      },
      "source": [
        "import pandas as pd\n",
        "import numpy as np\n",
        "import matplotlib.pyplot as plt\n",
        "from keras.models import sequential\n",
        "from keras.layers import Dense , SimpleRNN"
      ],
      "execution_count": null,
      "outputs": []
    },
    {
      "cell_type": "code",
      "metadata": {
        "id": "0tpZDY18feuw"
      },
      "source": [
        "dataset_train = pd.read_csv('NSE-TATAGLOBAL.csv')\n",
        "training_set = dataset_train.iloc[:, 1:2].values"
      ],
      "execution_count": null,
      "outputs": []
    },
    {
      "cell_type": "code",
      "metadata": {
        "id": "ZZUpwDTgfdYG"
      },
      "source": [
        ""
      ],
      "execution_count": null,
      "outputs": []
    },
    {
      "cell_type": "code",
      "metadata": {
        "colab": {
          "base_uri": "https://localhost:8080/",
          "height": 206
        },
        "id": "JBG46FLRgiIQ",
        "outputId": "a7bbc402-21c6-4aac-b8ee-ff7411db9b46"
      },
      "source": [
        "dataset_train.head()"
      ],
      "execution_count": null,
      "outputs": [
        {
          "output_type": "execute_result",
          "data": {
            "text/html": [
              "<div>\n",
              "<style scoped>\n",
              "    .dataframe tbody tr th:only-of-type {\n",
              "        vertical-align: middle;\n",
              "    }\n",
              "\n",
              "    .dataframe tbody tr th {\n",
              "        vertical-align: top;\n",
              "    }\n",
              "\n",
              "    .dataframe thead th {\n",
              "        text-align: right;\n",
              "    }\n",
              "</style>\n",
              "<table border=\"1\" class=\"dataframe\">\n",
              "  <thead>\n",
              "    <tr style=\"text-align: right;\">\n",
              "      <th></th>\n",
              "      <th>Date</th>\n",
              "      <th>Open</th>\n",
              "      <th>High</th>\n",
              "      <th>Low</th>\n",
              "      <th>Last</th>\n",
              "      <th>Close</th>\n",
              "      <th>Total Trade Quantity</th>\n",
              "      <th>Turnover (Lacs)</th>\n",
              "    </tr>\n",
              "  </thead>\n",
              "  <tbody>\n",
              "    <tr>\n",
              "      <th>0</th>\n",
              "      <td>2018-09-28</td>\n",
              "      <td>234.05</td>\n",
              "      <td>235.95</td>\n",
              "      <td>230.20</td>\n",
              "      <td>233.50</td>\n",
              "      <td>233.75</td>\n",
              "      <td>3069914</td>\n",
              "      <td>7162.35</td>\n",
              "    </tr>\n",
              "    <tr>\n",
              "      <th>1</th>\n",
              "      <td>2018-09-27</td>\n",
              "      <td>234.55</td>\n",
              "      <td>236.80</td>\n",
              "      <td>231.10</td>\n",
              "      <td>233.80</td>\n",
              "      <td>233.25</td>\n",
              "      <td>5082859</td>\n",
              "      <td>11859.95</td>\n",
              "    </tr>\n",
              "    <tr>\n",
              "      <th>2</th>\n",
              "      <td>2018-09-26</td>\n",
              "      <td>240.00</td>\n",
              "      <td>240.00</td>\n",
              "      <td>232.50</td>\n",
              "      <td>235.00</td>\n",
              "      <td>234.25</td>\n",
              "      <td>2240909</td>\n",
              "      <td>5248.60</td>\n",
              "    </tr>\n",
              "    <tr>\n",
              "      <th>3</th>\n",
              "      <td>2018-09-25</td>\n",
              "      <td>233.30</td>\n",
              "      <td>236.75</td>\n",
              "      <td>232.00</td>\n",
              "      <td>236.25</td>\n",
              "      <td>236.10</td>\n",
              "      <td>2349368</td>\n",
              "      <td>5503.90</td>\n",
              "    </tr>\n",
              "    <tr>\n",
              "      <th>4</th>\n",
              "      <td>2018-09-24</td>\n",
              "      <td>233.55</td>\n",
              "      <td>239.20</td>\n",
              "      <td>230.75</td>\n",
              "      <td>234.00</td>\n",
              "      <td>233.30</td>\n",
              "      <td>3423509</td>\n",
              "      <td>7999.55</td>\n",
              "    </tr>\n",
              "  </tbody>\n",
              "</table>\n",
              "</div>"
            ],
            "text/plain": [
              "         Date    Open    High  ...   Close  Total Trade Quantity  Turnover (Lacs)\n",
              "0  2018-09-28  234.05  235.95  ...  233.75               3069914          7162.35\n",
              "1  2018-09-27  234.55  236.80  ...  233.25               5082859         11859.95\n",
              "2  2018-09-26  240.00  240.00  ...  234.25               2240909          5248.60\n",
              "3  2018-09-25  233.30  236.75  ...  236.10               2349368          5503.90\n",
              "4  2018-09-24  233.55  239.20  ...  233.30               3423509          7999.55\n",
              "\n",
              "[5 rows x 8 columns]"
            ]
          },
          "metadata": {},
          "execution_count": 3
        }
      ]
    },
    {
      "cell_type": "code",
      "metadata": {
        "colab": {
          "base_uri": "https://localhost:8080/"
        },
        "id": "mWyQnnRMoqTS",
        "outputId": "82780d74-b649-4a56-8023-525de74563f8"
      },
      "source": [
        "training_set"
      ],
      "execution_count": null,
      "outputs": [
        {
          "output_type": "execute_result",
          "data": {
            "text/plain": [
              "array([[234.05],\n",
              "       [234.55],\n",
              "       [240.  ],\n",
              "       ...,\n",
              "       [121.8 ],\n",
              "       [120.3 ],\n",
              "       [122.1 ]])"
            ]
          },
          "metadata": {},
          "execution_count": 4
        }
      ]
    },
    {
      "cell_type": "code",
      "metadata": {
        "colab": {
          "base_uri": "https://localhost:8080/"
        },
        "id": "TAds3lu7c_rw",
        "outputId": "1b812919-57ff-483b-a3ee-450a456ab949"
      },
      "source": [
        "training_set.shape"
      ],
      "execution_count": null,
      "outputs": [
        {
          "output_type": "execute_result",
          "data": {
            "text/plain": [
              "(2035, 1)"
            ]
          },
          "metadata": {},
          "execution_count": 5
        }
      ]
    },
    {
      "cell_type": "code",
      "metadata": {
        "colab": {
          "base_uri": "https://localhost:8080/"
        },
        "id": "yO5YiCyNm_fA",
        "outputId": "16cabe93-4bd8-4d49-c461-d157a54338a9"
      },
      "source": [
        "dataset_train.shape"
      ],
      "execution_count": null,
      "outputs": [
        {
          "output_type": "execute_result",
          "data": {
            "text/plain": [
              "(2035, 8)"
            ]
          },
          "metadata": {},
          "execution_count": 6
        }
      ]
    },
    {
      "cell_type": "code",
      "metadata": {
        "id": "IVyKNRyAnTGG"
      },
      "source": [
        "from sklearn.preprocessing import MinMaxScaler\n",
        "sc = MinMaxScaler(feature_range = (0, 1))\n",
        "training_set_scaled = sc.fit_transform(training_set)"
      ],
      "execution_count": null,
      "outputs": []
    },
    {
      "cell_type": "code",
      "metadata": {
        "colab": {
          "base_uri": "https://localhost:8080/"
        },
        "id": "R-d324YapGMy",
        "outputId": "a1373861-5a0e-4a2d-a751-de75def2c5cc"
      },
      "source": [
        "training_set_scaled"
      ],
      "execution_count": null,
      "outputs": [
        {
          "output_type": "execute_result",
          "data": {
            "text/plain": [
              "array([[0.6202352 ],\n",
              "       [0.62226277],\n",
              "       [0.64436334],\n",
              "       ...,\n",
              "       [0.16504461],\n",
              "       [0.15896188],\n",
              "       [0.16626115]])"
            ]
          },
          "metadata": {},
          "execution_count": 8
        }
      ]
    },
    {
      "cell_type": "code",
      "metadata": {
        "id": "T7e138UXhuj1"
      },
      "source": [
        "X_train = []\n",
        "y_train = []\n",
        "for i in range(60, 2035):\n",
        "    X_train.append(training_set_scaled[i-60:i, 0])\n",
        "    y_train.append(training_set_scaled[i, 0])\n",
        "X_train, y_train = np.array(X_train), np.array(y_train)"
      ],
      "execution_count": null,
      "outputs": []
    },
    {
      "cell_type": "code",
      "metadata": {
        "colab": {
          "base_uri": "https://localhost:8080/"
        },
        "id": "rXlmtFQWnwZn",
        "outputId": "ac45e06c-b195-44f8-e205-7ce98c7b379c"
      },
      "source": [
        "X_train.shape"
      ],
      "execution_count": null,
      "outputs": [
        {
          "output_type": "execute_result",
          "data": {
            "text/plain": [
              "(1975, 60)"
            ]
          },
          "metadata": {},
          "execution_count": 10
        }
      ]
    },
    {
      "cell_type": "code",
      "metadata": {
        "colab": {
          "base_uri": "https://localhost:8080/"
        },
        "id": "zjUFlCGlMeNr",
        "outputId": "c6959291-9694-4606-cf28-6f2f1087a6dc"
      },
      "source": [
        "y_train"
      ],
      "execution_count": null,
      "outputs": [
        {
          "output_type": "execute_result",
          "data": {
            "text/plain": [
              "array([0.77007299, 0.73641525, 0.73763179, ..., 0.16504461, 0.15896188,\n",
              "       0.16626115])"
            ]
          },
          "metadata": {},
          "execution_count": 11
        }
      ]
    },
    {
      "cell_type": "code",
      "metadata": {
        "id": "qyEsdPF8n03D"
      },
      "source": [
        "#convert to 3d\n",
        "X_train = np.reshape(X_train, (X_train.shape[0], X_train.shape[1], 1))"
      ],
      "execution_count": null,
      "outputs": []
    },
    {
      "cell_type": "code",
      "metadata": {
        "colab": {
          "base_uri": "https://localhost:8080/"
        },
        "id": "Fj3ClZ4Xn3M_",
        "outputId": "06133e9f-388c-411b-815e-6c2c85873211"
      },
      "source": [
        "X_train.shape"
      ],
      "execution_count": null,
      "outputs": [
        {
          "output_type": "execute_result",
          "data": {
            "text/plain": [
              "(1975, 60, 1)"
            ]
          },
          "metadata": {},
          "execution_count": 13
        }
      ]
    },
    {
      "cell_type": "code",
      "metadata": {
        "id": "_g0r8jowhVpw"
      },
      "source": [
        "from keras.models import Sequential\n",
        "from keras.layers import Dense\n",
        "from keras.layers import LSTM\n",
        "from keras.layers import Dropout"
      ],
      "execution_count": null,
      "outputs": []
    },
    {
      "cell_type": "code",
      "metadata": {
        "colab": {
          "base_uri": "https://localhost:8080/"
        },
        "id": "Sm8mZdXEh8Lj",
        "outputId": "d02eccaa-f4b1-4f79-a872-d2e9b6a78e50"
      },
      "source": [
        "regressor = Sequential()\n",
        "\n",
        "regressor.add(LSTM(units = 50, return_sequences = True, input_shape = (X_train.shape[1], 1)))\n",
        "regressor.add(Dropout(0.2))\n",
        "\n",
        "regressor.add(LSTM(units = 50, return_sequences = True))\n",
        "regressor.add(Dropout(0.2))\n",
        "\n",
        "regressor.add(LSTM(units = 50, return_sequences = True))\n",
        "regressor.add(Dropout(0.2))\n",
        "\n",
        "regressor.add(LSTM(units = 50))\n",
        "regressor.add(Dropout(0.2))\n",
        "\n",
        "regressor.add(Dense(units = 1))\n",
        "\n",
        "regressor.compile(optimizer = 'adam', loss = 'mean_squared_error')\n",
        "\n",
        "regressor.fit(X_train, y_train, epochs = 100, batch_size = 32)"
      ],
      "execution_count": null,
      "outputs": [
        {
          "output_type": "stream",
          "name": "stdout",
          "text": [
            "Epoch 1/100\n",
            "62/62 [==============================] - 15s 127ms/step - loss: 0.0097\n",
            "Epoch 2/100\n",
            "62/62 [==============================] - 8s 128ms/step - loss: 0.0027\n",
            "Epoch 3/100\n",
            "62/62 [==============================] - 8s 127ms/step - loss: 0.0029\n",
            "Epoch 4/100\n",
            "62/62 [==============================] - 8s 127ms/step - loss: 0.0034\n",
            "Epoch 5/100\n",
            "62/62 [==============================] - 8s 128ms/step - loss: 0.0023\n",
            "Epoch 6/100\n",
            "62/62 [==============================] - 8s 126ms/step - loss: 0.0026\n",
            "Epoch 7/100\n",
            "62/62 [==============================] - 8s 126ms/step - loss: 0.0020\n",
            "Epoch 8/100\n",
            "62/62 [==============================] - 8s 127ms/step - loss: 0.0020\n",
            "Epoch 9/100\n",
            "62/62 [==============================] - 8s 127ms/step - loss: 0.0020\n",
            "Epoch 10/100\n",
            "62/62 [==============================] - 8s 128ms/step - loss: 0.0020\n",
            "Epoch 11/100\n",
            "62/62 [==============================] - 8s 129ms/step - loss: 0.0019\n",
            "Epoch 12/100\n",
            "62/62 [==============================] - 8s 127ms/step - loss: 0.0018\n",
            "Epoch 13/100\n",
            "62/62 [==============================] - 8s 127ms/step - loss: 0.0017\n",
            "Epoch 14/100\n",
            "62/62 [==============================] - 8s 128ms/step - loss: 0.0017\n",
            "Epoch 15/100\n",
            "62/62 [==============================] - 8s 129ms/step - loss: 0.0014\n",
            "Epoch 16/100\n",
            "62/62 [==============================] - 8s 128ms/step - loss: 0.0017\n",
            "Epoch 17/100\n",
            "62/62 [==============================] - 8s 127ms/step - loss: 0.0014\n",
            "Epoch 18/100\n",
            "62/62 [==============================] - 8s 128ms/step - loss: 0.0015\n",
            "Epoch 19/100\n",
            "62/62 [==============================] - 8s 128ms/step - loss: 0.0014\n",
            "Epoch 20/100\n",
            "62/62 [==============================] - 8s 126ms/step - loss: 0.0013\n",
            "Epoch 21/100\n",
            "62/62 [==============================] - 8s 128ms/step - loss: 0.0013\n",
            "Epoch 22/100\n",
            "62/62 [==============================] - 8s 127ms/step - loss: 0.0014\n",
            "Epoch 23/100\n",
            "62/62 [==============================] - 8s 127ms/step - loss: 0.0014\n",
            "Epoch 24/100\n",
            "62/62 [==============================] - 8s 125ms/step - loss: 0.0013\n",
            "Epoch 25/100\n",
            "62/62 [==============================] - 8s 129ms/step - loss: 0.0012\n",
            "Epoch 26/100\n",
            "62/62 [==============================] - 8s 127ms/step - loss: 0.0011\n",
            "Epoch 27/100\n",
            "62/62 [==============================] - 8s 127ms/step - loss: 0.0013\n",
            "Epoch 28/100\n",
            "62/62 [==============================] - 8s 129ms/step - loss: 0.0013\n",
            "Epoch 29/100\n",
            "62/62 [==============================] - 8s 129ms/step - loss: 0.0011\n",
            "Epoch 30/100\n",
            "62/62 [==============================] - 8s 128ms/step - loss: 0.0012\n",
            "Epoch 31/100\n",
            "62/62 [==============================] - 8s 128ms/step - loss: 0.0013\n",
            "Epoch 32/100\n",
            "62/62 [==============================] - 8s 126ms/step - loss: 0.0012\n",
            "Epoch 33/100\n",
            "62/62 [==============================] - 8s 126ms/step - loss: 0.0011\n",
            "Epoch 34/100\n",
            "62/62 [==============================] - 8s 127ms/step - loss: 0.0011\n",
            "Epoch 35/100\n",
            "62/62 [==============================] - 8s 127ms/step - loss: 0.0010\n",
            "Epoch 36/100\n",
            "62/62 [==============================] - 8s 129ms/step - loss: 0.0010\n",
            "Epoch 37/100\n",
            "62/62 [==============================] - 8s 128ms/step - loss: 0.0011\n",
            "Epoch 38/100\n",
            "62/62 [==============================] - 8s 129ms/step - loss: 0.0011\n",
            "Epoch 39/100\n",
            "62/62 [==============================] - 8s 128ms/step - loss: 9.1920e-04\n",
            "Epoch 40/100\n",
            "62/62 [==============================] - 8s 128ms/step - loss: 9.5645e-04\n",
            "Epoch 41/100\n",
            "62/62 [==============================] - 8s 126ms/step - loss: 9.8020e-04\n",
            "Epoch 42/100\n",
            "62/62 [==============================] - 8s 129ms/step - loss: 0.0010\n",
            "Epoch 43/100\n",
            "62/62 [==============================] - 8s 128ms/step - loss: 9.4007e-04\n",
            "Epoch 44/100\n",
            "62/62 [==============================] - 8s 127ms/step - loss: 9.6194e-04\n",
            "Epoch 45/100\n",
            "62/62 [==============================] - 8s 129ms/step - loss: 0.0010\n",
            "Epoch 46/100\n",
            "62/62 [==============================] - 8s 128ms/step - loss: 9.2802e-04\n",
            "Epoch 47/100\n",
            "62/62 [==============================] - 8s 130ms/step - loss: 0.0010\n",
            "Epoch 48/100\n",
            "62/62 [==============================] - 8s 130ms/step - loss: 8.7852e-04\n",
            "Epoch 49/100\n",
            "62/62 [==============================] - 8s 128ms/step - loss: 7.5228e-04\n",
            "Epoch 50/100\n",
            "62/62 [==============================] - 8s 128ms/step - loss: 9.1560e-04\n",
            "Epoch 51/100\n",
            "62/62 [==============================] - 8s 129ms/step - loss: 7.8518e-04\n",
            "Epoch 52/100\n",
            "62/62 [==============================] - 8s 127ms/step - loss: 9.2635e-04\n",
            "Epoch 53/100\n",
            "62/62 [==============================] - 8s 128ms/step - loss: 8.1171e-04\n",
            "Epoch 54/100\n",
            "62/62 [==============================] - 8s 132ms/step - loss: 7.6619e-04\n",
            "Epoch 55/100\n",
            "62/62 [==============================] - 9s 150ms/step - loss: 7.7906e-04\n",
            "Epoch 56/100\n",
            "62/62 [==============================] - 8s 128ms/step - loss: 7.3760e-04\n",
            "Epoch 57/100\n",
            "62/62 [==============================] - 8s 127ms/step - loss: 7.7589e-04\n",
            "Epoch 58/100\n",
            "62/62 [==============================] - 8s 129ms/step - loss: 0.0010\n",
            "Epoch 59/100\n",
            "62/62 [==============================] - 8s 128ms/step - loss: 9.6968e-04\n",
            "Epoch 60/100\n",
            "62/62 [==============================] - 8s 129ms/step - loss: 8.2492e-04\n",
            "Epoch 61/100\n",
            "62/62 [==============================] - 8s 128ms/step - loss: 8.2600e-04\n",
            "Epoch 62/100\n",
            "62/62 [==============================] - 8s 128ms/step - loss: 7.9036e-04\n",
            "Epoch 63/100\n",
            "62/62 [==============================] - 8s 129ms/step - loss: 7.5903e-04\n",
            "Epoch 64/100\n",
            "62/62 [==============================] - 8s 127ms/step - loss: 7.2612e-04\n",
            "Epoch 65/100\n",
            "62/62 [==============================] - 8s 130ms/step - loss: 7.4904e-04\n",
            "Epoch 66/100\n",
            "62/62 [==============================] - 8s 128ms/step - loss: 7.7696e-04\n",
            "Epoch 67/100\n",
            "62/62 [==============================] - 8s 129ms/step - loss: 8.0360e-04\n",
            "Epoch 68/100\n",
            "62/62 [==============================] - 8s 130ms/step - loss: 7.3165e-04\n",
            "Epoch 69/100\n",
            "62/62 [==============================] - 8s 129ms/step - loss: 7.9540e-04\n",
            "Epoch 70/100\n",
            "62/62 [==============================] - 8s 130ms/step - loss: 7.3525e-04\n",
            "Epoch 71/100\n",
            "62/62 [==============================] - 8s 130ms/step - loss: 9.2031e-04\n",
            "Epoch 72/100\n",
            "62/62 [==============================] - 8s 130ms/step - loss: 8.1200e-04\n",
            "Epoch 73/100\n",
            "62/62 [==============================] - 8s 130ms/step - loss: 7.1398e-04\n",
            "Epoch 74/100\n",
            "62/62 [==============================] - 8s 128ms/step - loss: 6.9287e-04\n",
            "Epoch 75/100\n",
            "62/62 [==============================] - 8s 131ms/step - loss: 6.6235e-04\n",
            "Epoch 76/100\n",
            "62/62 [==============================] - 8s 129ms/step - loss: 8.2227e-04\n",
            "Epoch 77/100\n",
            "62/62 [==============================] - 8s 131ms/step - loss: 7.5978e-04\n",
            "Epoch 78/100\n",
            "62/62 [==============================] - 8s 131ms/step - loss: 6.0527e-04\n",
            "Epoch 79/100\n",
            "62/62 [==============================] - 8s 129ms/step - loss: 7.1635e-04\n",
            "Epoch 80/100\n",
            "62/62 [==============================] - 8s 130ms/step - loss: 7.9224e-04\n",
            "Epoch 81/100\n",
            "62/62 [==============================] - 8s 130ms/step - loss: 6.3367e-04\n",
            "Epoch 82/100\n",
            "62/62 [==============================] - 8s 129ms/step - loss: 6.8405e-04\n",
            "Epoch 83/100\n",
            "62/62 [==============================] - 8s 128ms/step - loss: 6.8274e-04\n",
            "Epoch 84/100\n",
            "62/62 [==============================] - 8s 128ms/step - loss: 6.2221e-04\n",
            "Epoch 85/100\n",
            "62/62 [==============================] - 8s 130ms/step - loss: 6.2611e-04\n",
            "Epoch 86/100\n",
            "62/62 [==============================] - 8s 131ms/step - loss: 6.9269e-04\n",
            "Epoch 87/100\n",
            "62/62 [==============================] - 8s 129ms/step - loss: 6.5154e-04\n",
            "Epoch 88/100\n",
            "62/62 [==============================] - 8s 130ms/step - loss: 6.7479e-04\n",
            "Epoch 89/100\n",
            "62/62 [==============================] - 8s 131ms/step - loss: 6.4565e-04\n",
            "Epoch 90/100\n",
            "62/62 [==============================] - 8s 133ms/step - loss: 7.5273e-04\n",
            "Epoch 91/100\n",
            "62/62 [==============================] - 8s 131ms/step - loss: 7.0211e-04\n",
            "Epoch 92/100\n",
            "62/62 [==============================] - 8s 133ms/step - loss: 6.5488e-04\n",
            "Epoch 93/100\n",
            "62/62 [==============================] - 8s 134ms/step - loss: 6.0437e-04\n",
            "Epoch 94/100\n",
            "62/62 [==============================] - 8s 131ms/step - loss: 7.9536e-04\n",
            "Epoch 95/100\n",
            "62/62 [==============================] - 8s 131ms/step - loss: 6.6917e-04\n",
            "Epoch 96/100\n",
            "62/62 [==============================] - 8s 130ms/step - loss: 6.7157e-04\n",
            "Epoch 97/100\n",
            "62/62 [==============================] - 8s 132ms/step - loss: 6.1836e-04\n",
            "Epoch 98/100\n",
            "62/62 [==============================] - 8s 130ms/step - loss: 6.0151e-04\n",
            "Epoch 99/100\n",
            "62/62 [==============================] - 8s 132ms/step - loss: 6.9441e-04\n",
            "Epoch 100/100\n",
            "62/62 [==============================] - 8s 131ms/step - loss: 6.4578e-04\n"
          ]
        },
        {
          "output_type": "execute_result",
          "data": {
            "text/plain": [
              "<keras.callbacks.History at 0x7fa2a55b3a50>"
            ]
          },
          "metadata": {},
          "execution_count": 15
        }
      ]
    },
    {
      "cell_type": "code",
      "metadata": {
        "id": "YaydmBVeiRlK"
      },
      "source": [
        ""
      ],
      "execution_count": null,
      "outputs": []
    },
    {
      "cell_type": "code",
      "metadata": {
        "id": "tgSkTEM3t7OC"
      },
      "source": [
        ""
      ],
      "execution_count": null,
      "outputs": []
    },
    {
      "cell_type": "code",
      "metadata": {
        "id": "Oiw6o9bJ4ns2"
      },
      "source": [
        ""
      ],
      "execution_count": null,
      "outputs": []
    }
  ]
}