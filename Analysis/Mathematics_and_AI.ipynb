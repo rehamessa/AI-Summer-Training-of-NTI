{
  "nbformat": 4,
  "nbformat_minor": 0,
  "metadata": {
    "colab": {
      "name": "Mathematics and AI.ipynb",
      "provenance": [],
      "collapsed_sections": []
    },
    "kernelspec": {
      "name": "python3",
      "display_name": "Python 3"
    },
    "language_info": {
      "name": "python"
    }
  },
  "cells": [
    {
      "cell_type": "code",
      "metadata": {
        "id": "dcPr9i7sgpku"
      },
      "source": [
        "import math"
      ],
      "execution_count": 47,
      "outputs": []
    },
    {
      "cell_type": "code",
      "metadata": {
        "colab": {
          "base_uri": "https://localhost:8080/"
        },
        "id": "ldaXs9PEcyZ2",
        "outputId": "bdd8ce73-f75d-405e-cde6-42d9556ce201"
      },
      "source": [
        "#function obtains the minimum integer greater than or equal to x. If x is\n",
        "math.ceil(4.01)"
      ],
      "execution_count": 48,
      "outputs": [
        {
          "output_type": "execute_result",
          "data": {
            "text/plain": [
              "5"
            ]
          },
          "metadata": {
            "tags": []
          },
          "execution_count": 48
        }
      ]
    },
    {
      "cell_type": "code",
      "metadata": {
        "colab": {
          "base_uri": "https://localhost:8080/"
        },
        "id": "bl9wu12Kcv7K",
        "outputId": "5700a884-5a2e-44cf-fb9e-793b41d28d4b"
      },
      "source": [
        "math.ceil(4.99)"
      ],
      "execution_count": 49,
      "outputs": [
        {
          "output_type": "execute_result",
          "data": {
            "text/plain": [
              "5"
            ]
          },
          "metadata": {
            "tags": []
          },
          "execution_count": 49
        }
      ]
    },
    {
      "cell_type": "code",
      "metadata": {
        "colab": {
          "base_uri": "https://localhost:8080/"
        },
        "id": "H_p0sypQdDup",
        "outputId": "bc585cfd-6d0e-4696-aa22-fd7ed6c29742"
      },
      "source": [
        "#The floor(x) function obtains the maximum integer less than or equal to x. If x is\n",
        "math.floor(4.1)"
      ],
      "execution_count": 50,
      "outputs": [
        {
          "output_type": "execute_result",
          "data": {
            "text/plain": [
              "4"
            ]
          },
          "metadata": {
            "tags": []
          },
          "execution_count": 50
        }
      ]
    },
    {
      "cell_type": "code",
      "metadata": {
        "colab": {
          "base_uri": "https://localhost:8080/"
        },
        "id": "7RVQLBQhdNKI",
        "outputId": "dddb18a1-0520-4fac-d32d-a6b3087580f4"
      },
      "source": [
        "#The degrees(x) function converts x from a radian to an angle.\n",
        "math.degrees(math.pi/4)"
      ],
      "execution_count": 51,
      "outputs": [
        {
          "output_type": "execute_result",
          "data": {
            "text/plain": [
              "45.0"
            ]
          },
          "metadata": {
            "tags": []
          },
          "execution_count": 51
        }
      ]
    },
    {
      "cell_type": "code",
      "metadata": {
        "colab": {
          "base_uri": "https://localhost:8080/"
        },
        "id": "wShpPGgwdlVi",
        "outputId": "31188947-a35b-4db2-cf43-d2700e3da7ab"
      },
      "source": [
        "math.degrees(math.pi)"
      ],
      "execution_count": 52,
      "outputs": [
        {
          "output_type": "execute_result",
          "data": {
            "text/plain": [
              "180.0"
            ]
          },
          "metadata": {
            "tags": []
          },
          "execution_count": 52
        }
      ]
    },
    {
      "cell_type": "code",
      "metadata": {
        "colab": {
          "base_uri": "https://localhost:8080/"
        },
        "id": "4yxw2iJPdtev",
        "outputId": "fdf5e05d-0a5d-49f1-c93e-74223bfd1525"
      },
      "source": [
        "#The exp(x) function returns math.e,to the power of x.\n",
        "math.exp(1)"
      ],
      "execution_count": 53,
      "outputs": [
        {
          "output_type": "execute_result",
          "data": {
            "text/plain": [
              "2.718281828459045"
            ]
          },
          "metadata": {
            "tags": []
          },
          "execution_count": 53
        }
      ]
    },
    {
      "cell_type": "code",
      "metadata": {
        "colab": {
          "base_uri": "https://localhost:8080/"
        },
        "id": "QxqF3o20eDw6",
        "outputId": "6d85f336-f17b-4178-f815-eef532d83445"
      },
      "source": [
        "#e power 4\n",
        "math.exp(4)"
      ],
      "execution_count": 54,
      "outputs": [
        {
          "output_type": "execute_result",
          "data": {
            "text/plain": [
              "54.598150033144236"
            ]
          },
          "metadata": {
            "tags": []
          },
          "execution_count": 54
        }
      ]
    },
    {
      "cell_type": "code",
      "metadata": {
        "colab": {
          "base_uri": "https://localhost:8080/"
        },
        "id": "DNHF2GYueF21",
        "outputId": "f143e258-93f7-443d-b317-1ecf3fb9dca6"
      },
      "source": [
        "#The fabs(x) function returns the absolute value of x.\n",
        "math.fabs(-0.003)"
      ],
      "execution_count": 55,
      "outputs": [
        {
          "output_type": "execute_result",
          "data": {
            "text/plain": [
              "0.003"
            ]
          },
          "metadata": {
            "tags": []
          },
          "execution_count": 55
        }
      ]
    },
    {
      "cell_type": "code",
      "metadata": {
        "colab": {
          "base_uri": "https://localhost:8080/"
        },
        "id": "DMSXNLePePyH",
        "outputId": "364db045-d174-4ee5-9bdd-72390bb4081f"
      },
      "source": [
        "#The factorial(x) function returns the factorial of x.\n",
        "math.factorial(4)"
      ],
      "execution_count": 56,
      "outputs": [
        {
          "output_type": "execute_result",
          "data": {
            "text/plain": [
              "24"
            ]
          },
          "metadata": {
            "tags": []
          },
          "execution_count": 56
        }
      ]
    },
    {
      "cell_type": "code",
      "metadata": {
        "colab": {
          "base_uri": "https://localhost:8080/"
        },
        "id": "SjeJ4hWMei3K",
        "outputId": "41d2fac7-68a7-495d-f78a-ffbd18f505d1"
      },
      "source": [
        "#The fsum(iterable) function summarizes each element in the iterator.\n",
        "\n",
        "math.fsum([1,2,3,4])"
      ],
      "execution_count": 57,
      "outputs": [
        {
          "output_type": "execute_result",
          "data": {
            "text/plain": [
              "10.0"
            ]
          },
          "metadata": {
            "tags": []
          },
          "execution_count": 57
        }
      ]
    },
    {
      "cell_type": "code",
      "metadata": {
        "colab": {
          "base_uri": "https://localhost:8080/"
        },
        "id": "kn87b5wMeqHr",
        "outputId": "1e3d9baa-0ce1-4e45-c445-bc68f5837a72"
      },
      "source": [
        "math.fsum([10,12,3,4])"
      ],
      "execution_count": 58,
      "outputs": [
        {
          "output_type": "execute_result",
          "data": {
            "text/plain": [
              "29.0"
            ]
          },
          "metadata": {
            "tags": []
          },
          "execution_count": 58
        }
      ]
    },
    {
      "cell_type": "code",
      "metadata": {
        "colab": {
          "base_uri": "https://localhost:8080/"
        },
        "id": "6evjGND4ew8c",
        "outputId": "3d18ae42-5190-41da-ff99-9fedd4452cc0"
      },
      "source": [
        "#The fmod(x, y) function obtains the remainder of x/y.\n",
        "math.fmod(20,3)"
      ],
      "execution_count": 59,
      "outputs": [
        {
          "output_type": "execute_result",
          "data": {
            "text/plain": [
              "2.0"
            ]
          },
          "metadata": {
            "tags": []
          },
          "execution_count": 59
        }
      ]
    },
    {
      "cell_type": "code",
      "metadata": {
        "id": "2vVlil2XgASy",
        "colab": {
          "base_uri": "https://localhost:8080/"
        },
        "outputId": "81ec6307-02f5-4223-a555-1259e43bc314"
      },
      "source": [
        "#The log([x, base]) function returns the natural logarithm of x. By default, e is the base number.\n",
        "math.log(10)"
      ],
      "execution_count": 60,
      "outputs": [
        {
          "output_type": "execute_result",
          "data": {
            "text/plain": [
              "2.302585092994046"
            ]
          },
          "metadata": {
            "tags": []
          },
          "execution_count": 60
        }
      ]
    },
    {
      "cell_type": "code",
      "metadata": {
        "colab": {
          "base_uri": "https://localhost:8080/"
        },
        "id": "o9HEQisme-nD",
        "outputId": "aec70547-ded7-4bfa-a96e-2fbf4e1a2b5b"
      },
      "source": [
        "math.log10(10)"
      ],
      "execution_count": 61,
      "outputs": [
        {
          "output_type": "execute_result",
          "data": {
            "text/plain": [
              "1.0"
            ]
          },
          "metadata": {
            "tags": []
          },
          "execution_count": 61
        }
      ]
    },
    {
      "cell_type": "code",
      "metadata": {
        "id": "ZpGGFgrKgCVi",
        "colab": {
          "base_uri": "https://localhost:8080/"
        },
        "outputId": "8640ab11-913c-4a12-9da8-c8048ca5026d"
      },
      "source": [
        "#The sqrt(x) function returns the square root of x.\n",
        "math.sqrt(100)"
      ],
      "execution_count": 62,
      "outputs": [
        {
          "output_type": "execute_result",
          "data": {
            "text/plain": [
              "10.0"
            ]
          },
          "metadata": {
            "tags": []
          },
          "execution_count": 62
        }
      ]
    },
    {
      "cell_type": "code",
      "metadata": {
        "colab": {
          "base_uri": "https://localhost:8080/"
        },
        "id": "vRtTyrP59TS8",
        "outputId": "5b3be748-639f-4611-935c-a6c7357eb412"
      },
      "source": [
        "math.sqrt(9)"
      ],
      "execution_count": 63,
      "outputs": [
        {
          "output_type": "execute_result",
          "data": {
            "text/plain": [
              "3.0"
            ]
          },
          "metadata": {
            "tags": []
          },
          "execution_count": 63
        }
      ]
    },
    {
      "cell_type": "code",
      "metadata": {
        "colab": {
          "base_uri": "https://localhost:8080/"
        },
        "id": "pl0QIwqvjHQa",
        "outputId": "efcbb09f-d51a-4421-e2b7-a46c4596ea56"
      },
      "source": [
        "#pi is a numerica l constant, indicating the circular constant.\n",
        "math.pi"
      ],
      "execution_count": 64,
      "outputs": [
        {
          "output_type": "execute_result",
          "data": {
            "text/plain": [
              "3.141592653589793"
            ]
          },
          "metadata": {
            "tags": []
          },
          "execution_count": 64
        }
      ]
    },
    {
      "cell_type": "code",
      "metadata": {
        "colab": {
          "base_uri": "https://localhost:8080/"
        },
        "id": "xLCjmL7sjOrf",
        "outputId": "98d6160e-e318-4f27-d39f-dfb60b84851f"
      },
      "source": [
        "#The pow(x, y) function returns the x to the power of y, that is,\n",
        "math.pow(3,4)    # 3 power 4"
      ],
      "execution_count": 65,
      "outputs": [
        {
          "output_type": "execute_result",
          "data": {
            "text/plain": [
              "81.0"
            ]
          },
          "metadata": {
            "tags": []
          },
          "execution_count": 65
        }
      ]
    },
    {
      "cell_type": "markdown",
      "metadata": {
        "id": "GSP4IfpOjiPF"
      },
      "source": [
        "### Linear Algebra Implementation"
      ]
    },
    {
      "cell_type": "code",
      "metadata": {
        "id": "3N3ZjUCSjXbI"
      },
      "source": [
        "import numpy as np\n",
        "import scipy as sp"
      ],
      "execution_count": 66,
      "outputs": []
    },
    {
      "cell_type": "markdown",
      "metadata": {
        "id": "_HcSrMnSkAv7"
      },
      "source": [
        "### Reshape Operation"
      ]
    },
    {
      "cell_type": "code",
      "metadata": {
        "id": "14pkAqfgjoPf",
        "colab": {
          "base_uri": "https://localhost:8080/"
        },
        "outputId": "4bea8b18-455f-4308-9612-9a05438ac3b7"
      },
      "source": [
        "x = np.arange(12)\n",
        "print(x)"
      ],
      "execution_count": 67,
      "outputs": [
        {
          "output_type": "stream",
          "text": [
            "[ 0  1  2  3  4  5  6  7  8  9 10 11]\n"
          ],
          "name": "stdout"
        }
      ]
    },
    {
      "cell_type": "code",
      "metadata": {
        "colab": {
          "base_uri": "https://localhost:8080/"
        },
        "id": "aTBDWVujkG31",
        "outputId": "a4255ca5-1593-4c0b-f95c-c04b314d0ae0"
      },
      "source": [
        "x.shape"
      ],
      "execution_count": 68,
      "outputs": [
        {
          "output_type": "execute_result",
          "data": {
            "text/plain": [
              "(12,)"
            ]
          },
          "metadata": {
            "tags": []
          },
          "execution_count": 68
        }
      ]
    },
    {
      "cell_type": "code",
      "metadata": {
        "colab": {
          "base_uri": "https://localhost:8080/"
        },
        "id": "pZ5ykyPrkKHi",
        "outputId": "e1c3a3b0-468b-45f8-9c66-300990eccc37"
      },
      "source": [
        "#Convert x to a 3x4 matrix.\n",
        "x = x.reshape(3,4)\n",
        "print(x)"
      ],
      "execution_count": 69,
      "outputs": [
        {
          "output_type": "stream",
          "text": [
            "[[ 0  1  2  3]\n",
            " [ 4  5  6  7]\n",
            " [ 8  9 10 11]]\n"
          ],
          "name": "stdout"
        }
      ]
    },
    {
      "cell_type": "code",
      "metadata": {
        "colab": {
          "base_uri": "https://localhost:8080/"
        },
        "id": "oZufVVlPkank",
        "outputId": "12d55ff0-5981-4d86-8eb1-f7a9fff9dc52"
      },
      "source": [
        "x.shape"
      ],
      "execution_count": 70,
      "outputs": [
        {
          "output_type": "execute_result",
          "data": {
            "text/plain": [
              "(3, 4)"
            ]
          },
          "metadata": {
            "tags": []
          },
          "execution_count": 70
        }
      ]
    },
    {
      "cell_type": "markdown",
      "metadata": {
        "id": "xY06B7Wpkia3"
      },
      "source": [
        "### Transpose Implementation"
      ]
    },
    {
      "cell_type": "code",
      "metadata": {
        "colab": {
          "base_uri": "https://localhost:8080/"
        },
        "id": "dv2WjpdqkdWh",
        "outputId": "0c8f0930-fe84-4141-a238-edc42ccc76f8"
      },
      "source": [
        "#Generate a 3x4 matrix and transpose the matrix.\n",
        "A = np.arange(12).reshape(3,4)\n",
        "print(A)"
      ],
      "execution_count": 71,
      "outputs": [
        {
          "output_type": "stream",
          "text": [
            "[[ 0  1  2  3]\n",
            " [ 4  5  6  7]\n",
            " [ 8  9 10 11]]\n"
          ],
          "name": "stdout"
        }
      ]
    },
    {
      "cell_type": "code",
      "metadata": {
        "colab": {
          "base_uri": "https://localhost:8080/"
        },
        "id": "ZA6w4A4Ckrmf",
        "outputId": "44a121d3-cef4-4273-da48-ddcdb93fe710"
      },
      "source": [
        "# .T  for transposition\n",
        "A.T"
      ],
      "execution_count": 72,
      "outputs": [
        {
          "output_type": "execute_result",
          "data": {
            "text/plain": [
              "array([[ 0,  4,  8],\n",
              "       [ 1,  5,  9],\n",
              "       [ 2,  6, 10],\n",
              "       [ 3,  7, 11]])"
            ]
          },
          "metadata": {
            "tags": []
          },
          "execution_count": 72
        }
      ]
    },
    {
      "cell_type": "markdown",
      "metadata": {
        "id": "QC5hJ0qXk7QG"
      },
      "source": [
        "### Matrix Multiplication Implementation"
      ]
    },
    {
      "cell_type": "code",
      "metadata": {
        "id": "0PHsQZEqk1kj"
      },
      "source": [
        "A = np.arange(6).reshape(3,2)\n",
        "B = np.arange(6).reshape(2,3)"
      ],
      "execution_count": 73,
      "outputs": []
    },
    {
      "cell_type": "code",
      "metadata": {
        "colab": {
          "base_uri": "https://localhost:8080/"
        },
        "id": "tD8jj8zslEDR",
        "outputId": "75323f5d-6667-49e8-e4f1-b2b20cf6baff"
      },
      "source": [
        "print (A)\n",
        "print(B)"
      ],
      "execution_count": 74,
      "outputs": [
        {
          "output_type": "stream",
          "text": [
            "[[0 1]\n",
            " [2 3]\n",
            " [4 5]]\n",
            "[[0 1 2]\n",
            " [3 4 5]]\n"
          ],
          "name": "stdout"
        }
      ]
    },
    {
      "cell_type": "code",
      "metadata": {
        "colab": {
          "base_uri": "https://localhost:8080/"
        },
        "id": "ueNJiG4qlG_b",
        "outputId": "c78feebf-03ba-4ed4-8acb-2a53060bb9fb"
      },
      "source": [
        "np.matmul(A,B)"
      ],
      "execution_count": 75,
      "outputs": [
        {
          "output_type": "execute_result",
          "data": {
            "text/plain": [
              "array([[ 3,  4,  5],\n",
              "       [ 9, 14, 19],\n",
              "       [15, 24, 33]])"
            ]
          },
          "metadata": {
            "tags": []
          },
          "execution_count": 75
        }
      ]
    },
    {
      "cell_type": "markdown",
      "metadata": {
        "id": "HiWuiJcrlXvl"
      },
      "source": [
        "### Matrix Operations"
      ]
    },
    {
      "cell_type": "code",
      "metadata": {
        "colab": {
          "base_uri": "https://localhost:8080/"
        },
        "id": "bvrpsUjqlRum",
        "outputId": "bad1f71f-441b-4830-8590-9fb15311f76a"
      },
      "source": [
        "# Matrix multiplication:  (shape is the smae)\n",
        "print(A*A)"
      ],
      "execution_count": 76,
      "outputs": [
        {
          "output_type": "stream",
          "text": [
            "[[ 0  1]\n",
            " [ 4  9]\n",
            " [16 25]]\n"
          ],
          "name": "stdout"
        }
      ]
    },
    {
      "cell_type": "code",
      "metadata": {
        "colab": {
          "base_uri": "https://localhost:8080/"
        },
        "id": "4yTo5vm-llaV",
        "outputId": "9211776f-9e7e-4e04-84b8-84f8f04be1a5"
      },
      "source": [
        "#Matrix addition:\n",
        "print(A + A)"
      ],
      "execution_count": 77,
      "outputs": [
        {
          "output_type": "stream",
          "text": [
            "[[ 0  2]\n",
            " [ 4  6]\n",
            " [ 8 10]]\n"
          ],
          "name": "stdout"
        }
      ]
    },
    {
      "cell_type": "code",
      "metadata": {
        "colab": {
          "base_uri": "https://localhost:8080/"
        },
        "id": "APPs0YGml6PZ",
        "outputId": "b60c06a9-2d0b-434a-8a22-afd75e370803"
      },
      "source": [
        "print(A - A)\n"
      ],
      "execution_count": 78,
      "outputs": [
        {
          "output_type": "stream",
          "text": [
            "[[0 0]\n",
            " [0 0]\n",
            " [0 0]]\n"
          ],
          "name": "stdout"
        }
      ]
    },
    {
      "cell_type": "markdown",
      "metadata": {
        "id": "x6MoUX2_mxsh"
      },
      "source": [
        "### Inverse Matrix Implementation"
      ]
    },
    {
      "cell_type": "code",
      "metadata": {
        "colab": {
          "base_uri": "https://localhost:8080/"
        },
        "id": "_zrHuceOmFEI",
        "outputId": "83c13ca2-af27-456a-e515-b22f5da30262"
      },
      "source": [
        "A = np.arange(4).reshape(2,2)\n",
        "print(A)"
      ],
      "execution_count": 79,
      "outputs": [
        {
          "output_type": "stream",
          "text": [
            "[[0 1]\n",
            " [2 3]]\n"
          ],
          "name": "stdout"
        }
      ]
    },
    {
      "cell_type": "code",
      "metadata": {
        "colab": {
          "base_uri": "https://localhost:8080/"
        },
        "id": "-yIXt2Num2cc",
        "outputId": "4ed63cbe-8d0d-4ab1-fea6-bed6739ed34a"
      },
      "source": [
        "np.linalg.inv(A)"
      ],
      "execution_count": 80,
      "outputs": [
        {
          "output_type": "execute_result",
          "data": {
            "text/plain": [
              "array([[-1.5,  0.5],\n",
              "       [ 1. ,  0. ]])"
            ]
          },
          "metadata": {
            "tags": []
          },
          "execution_count": 80
        }
      ]
    },
    {
      "cell_type": "markdown",
      "metadata": {
        "id": "DT3ydF5Qqsnl"
      },
      "source": [
        "### Eigenvalue and Eigenvector"
      ]
    },
    {
      "cell_type": "code",
      "metadata": {
        "id": "0GuweJrRqrDO"
      },
      "source": [
        "from scipy.linalg import eig\n",
        "import numpy as np\n",
        "import matplotlib.pyplot as plt"
      ],
      "execution_count": 81,
      "outputs": []
    },
    {
      "cell_type": "code",
      "metadata": {
        "id": "_-1g7R3um7Bz"
      },
      "source": [
        "A = [[1, 2],\n",
        "     [2, 1]]                       # Generate a 2x2 matrix."
      ],
      "execution_count": 82,
      "outputs": []
    },
    {
      "cell_type": "code",
      "metadata": {
        "id": "xWrBjAunsz8P"
      },
      "source": [
        "evals, evecs = eig(A)           # Calculate the eigenvalue "
      ],
      "execution_count": 83,
      "outputs": []
    },
    {
      "cell_type": "code",
      "metadata": {
        "colab": {
          "base_uri": "https://localhost:8080/"
        },
        "id": "K_fCkkOps6ne",
        "outputId": "1c454212-5740-4ac8-8b48-adde15a14909"
      },
      "source": [
        "evecs"
      ],
      "execution_count": 84,
      "outputs": [
        {
          "output_type": "execute_result",
          "data": {
            "text/plain": [
              "array([[ 0.70710678, -0.70710678],\n",
              "       [ 0.70710678,  0.70710678]])"
            ]
          },
          "metadata": {
            "tags": []
          },
          "execution_count": 84
        }
      ]
    },
    {
      "cell_type": "code",
      "metadata": {
        "colab": {
          "base_uri": "https://localhost:8080/"
        },
        "id": "8carqv6OtHUA",
        "outputId": "a362f03f-8dd5-4cdf-e6f7-fc16ac5a3bfd"
      },
      "source": [
        "evals"
      ],
      "execution_count": 85,
      "outputs": [
        {
          "output_type": "execute_result",
          "data": {
            "text/plain": [
              "array([ 3.+0.j, -1.+0.j])"
            ]
          },
          "metadata": {
            "tags": []
          },
          "execution_count": 85
        }
      ]
    },
    {
      "cell_type": "code",
      "metadata": {
        "id": "RF7jthEZtKOq"
      },
      "source": [
        "evecs = evecs[:, 0], evecs[:, 1]"
      ],
      "execution_count": 86,
      "outputs": []
    },
    {
      "cell_type": "code",
      "metadata": {
        "colab": {
          "base_uri": "https://localhost:8080/"
        },
        "id": "BxF6bRh7tLrJ",
        "outputId": "4aca5da3-aa59-4950-83c2-d9fdf1123649"
      },
      "source": [
        "evecs"
      ],
      "execution_count": 87,
      "outputs": [
        {
          "output_type": "execute_result",
          "data": {
            "text/plain": [
              "(array([0.70710678, 0.70710678]), array([-0.70710678,  0.70710678]))"
            ]
          },
          "metadata": {
            "tags": []
          },
          "execution_count": 87
        }
      ]
    },
    {
      "cell_type": "markdown",
      "metadata": {
        "id": "QKFaW-SOuKWY"
      },
      "source": [
        "### Determinant"
      ]
    },
    {
      "cell_type": "code",
      "metadata": {
        "colab": {
          "base_uri": "https://localhost:8080/"
        },
        "id": "v9NMxzR8uBt4",
        "outputId": "8c87a068-2b52-4082-c9d1-7208f4edf8ce"
      },
      "source": [
        "E = [[1, 2,3],\n",
        "      [4, 5,6],\n",
        "       [7, 8,9]]\n",
        "print(np.linalg.det(E))"
      ],
      "execution_count": 88,
      "outputs": [
        {
          "output_type": "stream",
          "text": [
            "0.0\n"
          ],
          "name": "stdout"
        }
      ]
    },
    {
      "cell_type": "markdown",
      "metadata": {
        "id": "-4Fd_Xy112Zi"
      },
      "source": [
        "### Solving a linear system"
      ]
    },
    {
      "cell_type": "code",
      "metadata": {
        "colab": {
          "base_uri": "https://localhost:8080/"
        },
        "id": "kqBgLNh_2Coe",
        "outputId": "1a2d0fd0-8101-4a57-9c80-f0d510a6fd92"
      },
      "source": [
        "from scipy import linalg\n",
        "a=np.array([[1,3,5],\n",
        "            [2,5,1],\n",
        "            [2,3,8]])\n",
        "b=np.array([10,8,3])\n",
        "print(a)\n",
        "print(b)"
      ],
      "execution_count": 89,
      "outputs": [
        {
          "output_type": "stream",
          "text": [
            "[[1 3 5]\n",
            " [2 5 1]\n",
            " [2 3 8]]\n",
            "[10  8  3]\n"
          ],
          "name": "stdout"
        }
      ]
    },
    {
      "cell_type": "markdown",
      "metadata": {
        "id": "4K14WCH22gjo"
      },
      "source": [
        "![image.png](data:image/png;base64,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)"
      ]
    },
    {
      "cell_type": "code",
      "metadata": {
        "colab": {
          "base_uri": "https://localhost:8080/"
        },
        "id": "NLAVB7xu2j11",
        "outputId": "aa78a49e-7078-47b4-c1fd-830841bbb640"
      },
      "source": [
        "x=linalg.solve(a,b)\n",
        "x"
      ],
      "execution_count": 90,
      "outputs": [
        {
          "output_type": "execute_result",
          "data": {
            "text/plain": [
              "array([-9.28,  5.16,  0.76])"
            ]
          },
          "metadata": {
            "tags": []
          },
          "execution_count": 90
        }
      ]
    },
    {
      "cell_type": "markdown",
      "metadata": {
        "id": "kQDZ4ID-uqGp"
      },
      "source": [
        ""
      ]
    },
    {
      "cell_type": "code",
      "metadata": {
        "id": "m5LX11QtufMX"
      },
      "source": [
        "import numpy as np\n",
        "from pylab import *\n",
        "import matplotlib.pyplot as plt"
      ],
      "execution_count": 91,
      "outputs": []
    },
    {
      "cell_type": "code",
      "metadata": {
        "colab": {
          "base_uri": "https://localhost:8080/",
          "height": 246
        },
        "id": "NSXTnMo7uo8c",
        "outputId": "d158d340-1db6-49af-9a43-0ad8a66616ee"
      },
      "source": [
        "# Read and save the grayscale image.\n",
        "import cv2\n",
        "\n",
        "img = cv2.imread('lena.png')[:]\n",
        "plt.savefig('./lena_gray')\n",
        "plt.gray()\n",
        "plt.figure(1)\n",
        "plt.imshow(img,cmap='gray')"
      ],
      "execution_count": 92,
      "outputs": [
        {
          "output_type": "error",
          "ename": "TypeError",
          "evalue": "ignored",
          "traceback": [
            "\u001b[0;31m---------------------------------------------------------------------------\u001b[0m",
            "\u001b[0;31mTypeError\u001b[0m                                 Traceback (most recent call last)",
            "\u001b[0;32m<ipython-input-92-0b0d9fc9c3a5>\u001b[0m in \u001b[0;36m<module>\u001b[0;34m()\u001b[0m\n\u001b[1;32m      2\u001b[0m \u001b[0;32mimport\u001b[0m \u001b[0mcv2\u001b[0m\u001b[0;34m\u001b[0m\u001b[0;34m\u001b[0m\u001b[0m\n\u001b[1;32m      3\u001b[0m \u001b[0;34m\u001b[0m\u001b[0m\n\u001b[0;32m----> 4\u001b[0;31m \u001b[0mimg\u001b[0m \u001b[0;34m=\u001b[0m \u001b[0mcv2\u001b[0m\u001b[0;34m.\u001b[0m\u001b[0mimread\u001b[0m\u001b[0;34m(\u001b[0m\u001b[0;34m'lena.png'\u001b[0m\u001b[0;34m)\u001b[0m\u001b[0;34m[\u001b[0m\u001b[0;34m:\u001b[0m\u001b[0;34m]\u001b[0m\u001b[0;34m\u001b[0m\u001b[0;34m\u001b[0m\u001b[0m\n\u001b[0m\u001b[1;32m      5\u001b[0m \u001b[0mplt\u001b[0m\u001b[0;34m.\u001b[0m\u001b[0msavefig\u001b[0m\u001b[0;34m(\u001b[0m\u001b[0;34m'./lena_gray'\u001b[0m\u001b[0;34m)\u001b[0m\u001b[0;34m\u001b[0m\u001b[0;34m\u001b[0m\u001b[0m\n\u001b[1;32m      6\u001b[0m \u001b[0mplt\u001b[0m\u001b[0;34m.\u001b[0m\u001b[0mgray\u001b[0m\u001b[0;34m(\u001b[0m\u001b[0;34m)\u001b[0m\u001b[0;34m\u001b[0m\u001b[0;34m\u001b[0m\u001b[0m\n",
            "\u001b[0;31mTypeError\u001b[0m: 'NoneType' object is not subscriptable"
          ]
        }
      ]
    },
    {
      "cell_type": "code",
      "metadata": {
        "id": "p-LmCdFKu6KL"
      },
      "source": [
        "# Read and print the image length and width.\n",
        "print(np.shape(img))"
      ],
      "execution_count": null,
      "outputs": []
    },
    {
      "cell_type": "markdown",
      "metadata": {
        "id": "Ar6m4gMs9uEY"
      },
      "source": [
        "### Probability and statistics Implementation"
      ]
    },
    {
      "cell_type": "code",
      "metadata": {
        "id": "nbla64kZ0SPm"
      },
      "source": [
        "#Import libraries:\n",
        "import numpy as np\n",
        "import scipy as sp"
      ],
      "execution_count": 93,
      "outputs": []
    },
    {
      "cell_type": "code",
      "metadata": {
        "id": "F8ZQX9nO0thj"
      },
      "source": [
        "ll = [[1,2,3,4,5,6],[3,4,5,6,7,8]]"
      ],
      "execution_count": 94,
      "outputs": []
    },
    {
      "cell_type": "code",
      "metadata": {
        "id": "ID1CBP1C94Zk",
        "colab": {
          "base_uri": "https://localhost:8080/"
        },
        "outputId": "5e81b15b-4020-415b-f2d5-bf32f4fa75c9"
      },
      "source": [
        "np.mean(ll)"
      ],
      "execution_count": 95,
      "outputs": [
        {
          "output_type": "execute_result",
          "data": {
            "text/plain": [
              "4.5"
            ]
          },
          "metadata": {
            "tags": []
          },
          "execution_count": 95
        }
      ]
    },
    {
      "cell_type": "code",
      "metadata": {
        "id": "cWljmDEU97Ke",
        "colab": {
          "base_uri": "https://localhost:8080/"
        },
        "outputId": "584544b2-927e-455a-ceca-c5808754c97c"
      },
      "source": [
        "np.mean(ll,0) # Calculate the mean value by column. The value 0 indicates the column vector."
      ],
      "execution_count": 96,
      "outputs": [
        {
          "output_type": "execute_result",
          "data": {
            "text/plain": [
              "array([2., 3., 4., 5., 6., 7.])"
            ]
          },
          "metadata": {
            "tags": []
          },
          "execution_count": 96
        }
      ]
    },
    {
      "cell_type": "code",
      "metadata": {
        "id": "VLZDXLwk-IV9",
        "colab": {
          "base_uri": "https://localhost:8080/"
        },
        "outputId": "bb596363-3549-43a6-d213-2fde38ff4196"
      },
      "source": [
        "np.mean(ll,1)"
      ],
      "execution_count": 97,
      "outputs": [
        {
          "output_type": "execute_result",
          "data": {
            "text/plain": [
              "array([3.5, 5.5])"
            ]
          },
          "metadata": {
            "tags": []
          },
          "execution_count": 97
        }
      ]
    },
    {
      "cell_type": "markdown",
      "metadata": {
        "id": "pHXOefagAQNg"
      },
      "source": [
        "### Variance Implementation"
      ]
    },
    {
      "cell_type": "code",
      "metadata": {
        "id": "hF61obVW-R3l"
      },
      "source": [
        "b=[1,3,5,6]\n",
        "ll=[[1,2,3,4,5,6],[3,4,5,6,7,8]]"
      ],
      "execution_count": 98,
      "outputs": []
    },
    {
      "cell_type": "code",
      "metadata": {
        "id": "c_64jkjyAWko",
        "colab": {
          "base_uri": "https://localhost:8080/"
        },
        "outputId": "f381ab96-f7f6-45a6-be35-72e69285185d"
      },
      "source": [
        "#Calculate the variance:\n",
        "np.var(b)"
      ],
      "execution_count": 99,
      "outputs": [
        {
          "output_type": "execute_result",
          "data": {
            "text/plain": [
              "3.6875"
            ]
          },
          "metadata": {
            "tags": []
          },
          "execution_count": 99
        }
      ]
    },
    {
      "cell_type": "code",
      "metadata": {
        "id": "I28n6TR6Aar-",
        "colab": {
          "base_uri": "https://localhost:8080/"
        },
        "outputId": "fe8fb442-2c47-4bec-a9c8-4985f84656ce"
      },
      "source": [
        "np.var(ll,1)"
      ],
      "execution_count": 100,
      "outputs": [
        {
          "output_type": "execute_result",
          "data": {
            "text/plain": [
              "array([2.91666667, 2.91666667])"
            ]
          },
          "metadata": {
            "tags": []
          },
          "execution_count": 100
        }
      ]
    },
    {
      "cell_type": "markdown",
      "metadata": {
        "id": "cgNqkbXmA2tH"
      },
      "source": [
        "### Standard Deviation Implementation"
      ]
    },
    {
      "cell_type": "code",
      "metadata": {
        "id": "DuIKLK1jArs9",
        "colab": {
          "base_uri": "https://localhost:8080/"
        },
        "outputId": "446c6cc6-7519-4780-8506-b0d423beb735"
      },
      "source": [
        "#Data preparation:\n",
        "ll=[[1,2,3,4,5,6],[3,4,5,6,7,8]]\n",
        "np.std(ll)\n"
      ],
      "execution_count": 101,
      "outputs": [
        {
          "output_type": "execute_result",
          "data": {
            "text/plain": [
              "1.9790570145063195"
            ]
          },
          "metadata": {
            "tags": []
          },
          "execution_count": 101
        }
      ]
    },
    {
      "cell_type": "markdown",
      "metadata": {
        "id": "H0eUA1ZoBErI"
      },
      "source": [
        "### Covariance Implementation"
      ]
    },
    {
      "cell_type": "code",
      "metadata": {
        "id": "EPMjYYHMA-Wr",
        "colab": {
          "base_uri": "https://localhost:8080/"
        },
        "outputId": "625d8862-43eb-4551-9b4c-be3d319f2afb"
      },
      "source": [
        "x = np.array([[1, 2], [3, 7]])\n",
        "print(np.cov(x))"
      ],
      "execution_count": 102,
      "outputs": [
        {
          "output_type": "stream",
          "text": [
            "[[0.5 2. ]\n",
            " [2.  8. ]]\n"
          ],
          "name": "stdout"
        }
      ]
    },
    {
      "cell_type": "markdown",
      "metadata": {
        "id": "U_KaEoy6BO6Y"
      },
      "source": [
        "### Correlation Coefficient"
      ]
    },
    {
      "cell_type": "code",
      "metadata": {
        "id": "S0crTWL6BLuk",
        "colab": {
          "base_uri": "https://localhost:8080/"
        },
        "outputId": "6cc022ec-42fc-48d9-8bba-dd87ba471f1b"
      },
      "source": [
        "vc=[1,2,39,0,8]\n",
        "vb=[1,2,38,0,8]\n",
        "\n",
        "#Function based implementation:\n",
        "np.corrcoef(vc,vb)"
      ],
      "execution_count": 103,
      "outputs": [
        {
          "output_type": "execute_result",
          "data": {
            "text/plain": [
              "array([[1.        , 0.99998623],\n",
              "       [0.99998623, 1.        ]])"
            ]
          },
          "metadata": {
            "tags": []
          },
          "execution_count": 103
        }
      ]
    },
    {
      "cell_type": "markdown",
      "metadata": {
        "id": "azqGOkf1BZS-"
      },
      "source": [
        "### Binomial Distribution Implementation"
      ]
    },
    {
      "cell_type": "code",
      "metadata": {
        "id": "MaYQ_Qc8CFSl"
      },
      "source": [
        "from scipy.stats import binom, norm, beta, expon\n",
        "import numpy as np\n",
        "import matplotlib.pyplot as plt"
      ],
      "execution_count": 104,
      "outputs": []
    },
    {
      "cell_type": "code",
      "metadata": {
        "id": "PXucnqtzBVr-"
      },
      "source": [
        "binom_sim = binom.rvs(n=10, p=0.3, size=10000)"
      ],
      "execution_count": 105,
      "outputs": []
    },
    {
      "cell_type": "code",
      "metadata": {
        "id": "NxoBoKv2BTpy",
        "colab": {
          "base_uri": "https://localhost:8080/"
        },
        "outputId": "c32d75c9-d2b0-42d3-b543-af8ca8642fea"
      },
      "source": [
        "print(binom_sim) \n"
      ],
      "execution_count": 106,
      "outputs": [
        {
          "output_type": "stream",
          "text": [
            "[1 2 2 ... 2 3 3]\n"
          ],
          "name": "stdout"
        }
      ]
    },
    {
      "cell_type": "code",
      "metadata": {
        "id": "Ou0ODvrBCPzx",
        "colab": {
          "base_uri": "https://localhost:8080/"
        },
        "outputId": "98a1a601-3296-46c9-f152-312806a5082a"
      },
      "source": [
        "binom_sim.shape"
      ],
      "execution_count": 107,
      "outputs": [
        {
          "output_type": "execute_result",
          "data": {
            "text/plain": [
              "(10000,)"
            ]
          },
          "metadata": {
            "tags": []
          },
          "execution_count": 107
        }
      ]
    },
    {
      "cell_type": "code",
      "metadata": {
        "id": "ydoPSKCvDS6r",
        "colab": {
          "base_uri": "https://localhost:8080/"
        },
        "outputId": "7b387b6a-ada6-4992-8627-a274543374b4"
      },
      "source": [
        "print('Mean: %g' % np.mean(binom_sim))\n",
        "print('SD: %g' %np.std(binom_sim))"
      ],
      "execution_count": 108,
      "outputs": [
        {
          "output_type": "stream",
          "text": [
            "Mean: 3.0013\n",
            "SD: 1.44135\n"
          ],
          "name": "stdout"
        }
      ]
    },
    {
      "cell_type": "code",
      "metadata": {
        "id": "ibkID4MbD7r4",
        "colab": {
          "base_uri": "https://localhost:8080/",
          "height": 279
        },
        "outputId": "e3955fe2-4e45-4e33-ed80-f0587117a7d9"
      },
      "source": [
        "# Generate a histogram.The bins parameter indicates the number of bars in total.\n",
        "# the sum of the percentages of all bars is 1.\n",
        "plt.hist(binom_sim, bins=6)\n",
        "plt.xlabel(('x'))\n",
        "plt.ylabel('density')\n",
        "plt.show()"
      ],
      "execution_count": 114,
      "outputs": [
        {
          "output_type": "display_data",
          "data": {
            "image/png": "[encoded data removed]",
            "text/plain": [
              "<Figure size 432x288 with 1 Axes>"
            ]
          },
          "metadata": {
            "tags": [],
            "needs_background": "light"
          }
        }
      ]
    },
    {
      "cell_type": "markdown",
      "metadata": {
        "id": "6z9-bQvfEh4I"
      },
      "source": [
        "### Poisson Distribution Implementation"
      ]
    },
    {
      "cell_type": "code",
      "metadata": {
        "id": "eBBzMWlbESQR",
        "colab": {
          "base_uri": "https://localhost:8080/",
          "height": 265
        },
        "outputId": "d2408809-2b54-4d52-cfcf-2c637bece555"
      },
      "source": [
        "# Generate 10,000 numbers that comply with the Poisson distribution where the value of lambda is 2.\n",
        "X= np.random.poisson(lam=2, size=10000)\n",
        "a = plt.hist(X, bins=15, range=[0, 15])\n",
        "# Generate grids.\n",
        "plt.grid()\n",
        "plt.show()"
      ],
      "execution_count": 110,
      "outputs": [
        {
          "output_type": "display_data",
          "data": {
            "image/png": "[encoded data removed]",
            "text/plain": [
              "<Figure size 432x288 with 1 Axes>"
            ]
          },
          "metadata": {
            "tags": [],
            "needs_background": "light"
          }
        }
      ]
    },
    {
      "cell_type": "markdown",
      "metadata": {
        "id": "7YRk1vICE2MO"
      },
      "source": [
        "### Normal Distribution"
      ]
    },
    {
      "cell_type": "code",
      "metadata": {
        "id": "Bz-yjauAFIKH"
      },
      "source": [
        "from scipy.stats import norm\n",
        "import numpy as np\n",
        "import matplotlib.pyplot as plt"
      ],
      "execution_count": 111,
      "outputs": []
    },
    {
      "cell_type": "code",
      "metadata": {
        "id": "vgEKlFuHEw4E",
        "colab": {
          "base_uri": "https://localhost:8080/",
          "height": 279
        },
        "outputId": "151ddd5c-b38e-419f-a510-2588bd42c212"
      },
      "source": [
        "mu = 0\n",
        "sigma = 1\n",
        "#Return evenly spaced values within a given interval (start, stop, step).\n",
        "x = np.arange(-5, 5, 0.1)\n",
        "\n",
        "# Generate normal distribution that complies with mu and sigma\n",
        "y = norm.pdf(x, mu, sigma)\n",
        "plt.plot(x, y)\n",
        "plt.xlabel('x')\n",
        "plt.ylabel('density')\n",
        "plt.show();"
      ],
      "execution_count": 112,
      "outputs": [
        {
          "output_type": "display_data",
          "data": {
            "image/png": "[encoded data removed]",
            "text/plain": [
              "<Figure size 432x288 with 1 Axes>"
            ]
          },
          "metadata": {
            "tags": [],
            "needs_background": "light"
          }
        }
      ]
    },
    {
      "cell_type": "code",
      "metadata": {
        "id": "cy-PH6vgh307"
      },
      "source": [
        ""
      ],
      "execution_count": 112,
      "outputs": []
    }
  ]
}