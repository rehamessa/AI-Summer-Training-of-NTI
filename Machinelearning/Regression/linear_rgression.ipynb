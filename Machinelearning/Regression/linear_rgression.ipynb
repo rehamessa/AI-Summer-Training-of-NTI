{
  "nbformat": 4,
  "nbformat_minor": 0,
  "metadata": {
    "colab": {
      "name": "linear rgression.ipynb",
      "provenance": []
    },
    "kernelspec": {
      "name": "python3",
      "display_name": "Python 3"
    }
  },
  "cells": [
    {
      "cell_type": "code",
      "metadata": {
        "colab": {
          "base_uri": "https://localhost:8080/"
        },
        "id": "QNRpfVVFhqd3",
        "outputId": "1dfadd8d-fc52-43fa-bae0-893fdf399856"
      },
      "source": [
        "import numpy as np\n",
        "from sklearn.linear_model import LinearRegression\n",
        "X = np.array([[1, 1], [1, 2], [2, 2], [2, 3]])\n",
        "# y = 1 * x_0 + 2 * x_1 + 3\n",
        "y = np.dot(X, np.array([1, 2])) + 3\n",
        "reg = LinearRegression().fit(X, y)\n",
        "reg.score(X, y)\n"
      ],
      "execution_count": 11,
      "outputs": [
        {
          "output_type": "execute_result",
          "data": {
            "text/plain": [
              "1.0"
            ]
          },
          "metadata": {
            "tags": []
          },
          "execution_count": 11
        }
      ]
    },
    {
      "cell_type": "code",
      "metadata": {
        "colab": {
          "base_uri": "https://localhost:8080/"
        },
        "id": "zxjwczXikBE2",
        "outputId": "84ab1cb6-8c1c-4c5a-830d-0599e6b49ea9"
      },
      "source": [
        "reg.intercept_"
      ],
      "execution_count": 12,
      "outputs": [
        {
          "output_type": "execute_result",
          "data": {
            "text/plain": [
              "3.0000000000000018"
            ]
          },
          "metadata": {
            "tags": []
          },
          "execution_count": 12
        }
      ]
    },
    {
      "cell_type": "code",
      "metadata": {
        "colab": {
          "base_uri": "https://localhost:8080/"
        },
        "id": "eX6HVBOIkFYA",
        "outputId": "a0f7c5d8-d1a1-40cb-9648-0423bece172b"
      },
      "source": [
        "reg.predict(np.array([[2, 3]]))"
      ],
      "execution_count": 14,
      "outputs": [
        {
          "output_type": "execute_result",
          "data": {
            "text/plain": [
              "array([11.])"
            ]
          },
          "metadata": {
            "tags": []
          },
          "execution_count": 14
        }
      ]
    },
    {
      "cell_type": "code",
      "metadata": {
        "id": "ettbQw88iJY9"
      },
      "source": [
        ""
      ],
      "execution_count": null,
      "outputs": []
    }
  ]
}